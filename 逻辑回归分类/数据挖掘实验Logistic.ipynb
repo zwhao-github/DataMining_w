{
 "cells": [
  {
   "cell_type": "markdown",
   "id": "77a924ef",
   "metadata": {},
   "source": [
    "# 数据挖掘实验Logistic"
   ]
  },
  {
   "cell_type": "markdown",
   "id": "08f984d4",
   "metadata": {},
   "source": [
    "## 导入需要的包"
   ]
  },
  {
   "cell_type": "code",
   "execution_count": 2,
   "id": "c0b50d4e",
   "metadata": {},
   "outputs": [],
   "source": [
    "import numpy as np\n",
    "import pandas as pd\n",
    "import matplotlib.pyplot as plt # 画图\n",
    "import copy # 用于拷贝数据副本\n",
    "\n",
    "plt.rcParams['axes.unicode_minus']=False # 显示负数\n",
    "plt.rcParams['font.sans-serif'] = ['SimHei'] # 显示中文\n",
    "\n",
    "from sklearn.model_selection import train_test_split # 划分训练集和测试集的包\n",
    "from sklearn.metrics import confusion_matrix, classification_report # 画混淆矩阵和输出分类评价指标的包\n",
    "from sklearn.metrics import accuracy_score # 计算精确度的包\n",
    "import seaborn as sns # 将混淆矩阵可视化的包"
   ]
  },
  {
   "cell_type": "markdown",
   "id": "19141f6e",
   "metadata": {},
   "source": [
    "## 自定义逻辑回归类"
   ]
  },
  {
   "cell_type": "markdown",
   "id": "e2259248",
   "metadata": {},
   "source": [
    "逻辑回归又称对数几率回归. 虽然它的名字是回归,但实际确实一种分类算法, 主要适用于二分类任务, 若想用逻辑回归处理多分类问题需要做一定的变形.\\par\n",
    "        \t在线性回归中,预测目标y是连续的,且可以写成样本每一个特征的线性加权形式:\n",
    "        \t\\begin{equation}\n",
    "        \t\ty = f(x) = w_1x_1 + \\cdots + w_dx_d + w_0 = w^Tx,\\tag{1}\n",
    "        \t\\end{equation}\n",
    "        \t其中$\\omega$为参数向量,$d$为特征维度.现在假设解决的是二分类问题,即预测目标y此时的取值范围为${-1, 1}$. 显然,线性回归不能直接求解,但使用广义线性模型,将连续的y值映射到一个单调可微的函数中,即可求解上述问题.逻辑回归采用的方法是引入一个Sigmoid函数(常称为对数几率函数或逻辑斯蒂函数):\n",
    "        \t\\begin{equation}\n",
    "        \t\t\\sigma(x) = \\frac{1}{1 + e^{-x}},\\tag{2}\n",
    "        \t\\end{equation}\n",
    "        \t对应的函数图像如下图所示.\n",
    "          ![Logistic函数](./Logistics_function.png)\n",
    "        \t当输入的x很大或者很小时,该函数以接近于0或1的值输出,且$\\sigma(0)=0.5$.对数几率函数的导数可以用对应的函数值表示,即$\\sigma'(x) = \\sigma(x)(1-\\sigma(x))$.\n",
    "        \t将式1带入2中,得到\n",
    "        \t\\begin{equation}\n",
    "        \t\ty = \\frac{1}{1 + e^{-\\omega^Tx}}, \\tag{3}\n",
    "        \t\\end{equation}\n",
    "        \t若将y视为类后验概率$p(y=1|x)$, 那么样本$x_i$为正类的概率为:\n",
    "        \t\\begin{equation}\n",
    "        \t\tp(y_i=1|x_i) = \\sigma(f(x_i)) = \\frac{1}{1 + e^{-\\omega^Tx_i}}, \\tag{4}\n",
    "        \t\\end{equation}\n",
    "        \t则样本$x_i$的类别为负类(y = -1)的概率为:\n",
    "        \t\\begin{equation}\n",
    "        \t\tp(y_i=-1|x_i) = 1 - p(y_i=1|x_i) = \\frac{1}{1 + e^{\\omega^Tx_i}}, \\tag{5}\n",
    "        \t\\end{equation}\n",
    "        \t对比4和5,考虑到$y_i\\in \\{1, -1\\}$, 则将两式统一写为:\n",
    "        \t\\begin{equation}\n",
    "        \t\tp(y_i|x_i) = \\frac{1}{1 + e^{-y_i\\omega^Tx_i}}, \\tag{6}\n",
    "        \t\\end{equation}\n",
    "        \t假设训练集为$D = {(x_1, y_1), (x_2, y_2), \\cdots, (x_n, y_n)}$.那么可以用最大似然法来估计参数$\\omega$.利用式6,我们可以写出训练集的似然函数\n",
    "        \t\\begin{equation}\n",
    "        \t\tL(\\omega) = \\prod_{i=1}^{n}p(y_i|x_i), \\tag{7}\n",
    "        \t\\end{equation}\n",
    "        \t对7取对数,得到了训练集的负对数似然为\n",
    "        \t\\begin{equation}\n",
    "        \t\tNLL(\\omega) = -ln\\prod_{i=1}^np(y_i|x_i) = -\\sum_{i=1}^{n}lnp(y_i|x_i), \\tag{8}\n",
    "        \t\\end{equation}\n",
    "        \t现在,我们的目标变为求解出$\\omega$,使得8最小.求目标函数最小值常用的方法有最小二乘法和梯度下降法,本文使用梯度下降法求解,即使用如下公式不断更新参数:\n",
    "        \t\\begin{equation}\n",
    "        \t\t\\omega \\leftarrow \\omega - \\eta\\nabla NLL(\\omega).\\tag{9}\n",
    "        \t\\end{equation}\n",
    "        \t其中$\\eta$为学习率,$\\nabla NLL(\\omega)$为目标函数对于参数$\\omega$的梯度.可见,只要能够计算梯度,就能够计算逻辑回归的参数.记$f_i(w) = y_i\\omega^Tx_i$,利用复合函数求导的链式法则,有:\n",
    "        \t\\begin{equation}\n",
    "        \t\t\\begin{split}\n",
    "        \t\t\t\\nabla NLL(\\omega) &= -\\sum_{i=1}^{n}\\frac{\\partial lnp(y_i|x_i)}{\\partial\\omega} \\\\\n",
    "        \t\t\t&= -\\sum_{i=1}^{n}\\frac{1}{p(y_i|x_i)}\\frac{\\partial p(y_i|x_i)}{\\partial\\omega} \\\\\n",
    "        \t\t\t&= -\\sum_{i=1}^n\\frac{1}{p(y_i|x_i)}\\frac{\\partial p(y_i|x_i)}{\\partial f_i(\\omega)}\\frac{\\partial f_i(\\omega)}{\\partial\\omega}\n",
    "        \t\t\\end{split}\n",
    "                \\tag{10}\n",
    "        \t\\end{equation}\n",
    "        \t观察6,我们可以看到$p(y_i|x_i) = \\sigma(f_i(\\omega))$,所以\n",
    "        \t\\begin{equation}\n",
    "        \t\t\\frac{\\partial p(y_i|x_i)}{\\partial f_i(\\omega)} = p(y_i|x_i)(1-p(y_i|x_i))\n",
    "        \t\\tag{11}\n",
    "        \t\\end{equation}\n",
    "         \t因为$f_i(\\omega) = y_i\\omega^Tx_i$, 容易得到\n",
    "         \t\\begin{equation}\n",
    "         \t\t\\frac{\\partial f_i(\\omega)}{\\partial\\omega} = \\frac{\\partial y_i\\omega^Tx_i}{\\partial\\omega} = y_ix_i.\n",
    "         \t\\tag{12}\n",
    "         \t\\end{equation}\n",
    "         \t将11和12带入式10,我们得到\n",
    "         \t\\begin{equation}\n",
    "         \t\t\\nabla NLL(\\omega) = -\\sum_{i=1}^n(1-\\sigma(y_i\\omega^Tx_i))y_ix_i\n",
    "         \t\\tag{13}\n",
    "         \t\\end{equation}\n",
    "         \t现在,将式13代入9,我们可以使用下面的迭代公式来估计逻辑回归模型的参数$\\omega$:\n",
    "         \t\\begin{equation}\n",
    "         \t\t\\omega \\leftarrow \\omega + \\eta\\sum_{i=1}^n(1-\\sigma(y_i\\omega^Tx_i))y_ix_i\n",
    "         \t\\tag{14}\n",
    "         \t\\end{equation}"
   ]
  },
  {
   "cell_type": "code",
   "execution_count": 3,
   "id": "4da39ef6",
   "metadata": {},
   "outputs": [],
   "source": [
    "def Logistic(x):\n",
    "    return 1/(1+np.exp(-x))\n",
    "    \n",
    "class Logistic_regression(object):\n",
    "    def __init__(self, learning=0.01, end=0):\n",
    "        self.end = end\n",
    "        self.learning = learning\n",
    "        self.w = 0\n",
    "    \n",
    "    def fit(self, x, y):\n",
    "        # 初始化参数\n",
    "        x = np.concatenate((x,np.ones(x.shape[0]).reshape(-1, 1)),axis = 1)\n",
    "        w = np.ones(x.shape[1])\n",
    "        \n",
    "        c = 0\n",
    "        while 1:\n",
    "            t = np.zeros(x.shape[1])\n",
    "            for i in range(x.shape[0]):\n",
    "                t += (1 - Logistic(y[i]*np.dot(w.T, x[i])))*y[i]*x[i]\n",
    "            c += 1\n",
    "            # 迭代的截止条件:1.每次迭代w都不在更新, 即找到了极小值点; 2. 规定迭代次数, 本例规定1000次后不在迭代. \n",
    "            if np.all(np.abs(t) <= self.end) or c >= 1000:\n",
    "                break\n",
    "            w = w + t\n",
    "        self.w = w\n",
    "        return\n",
    "    \n",
    "    def predict(self, x):\n",
    "        x = np.concatenate((x,np.ones(x.shape[0]).reshape(-1, 1)),axis = 1)\n",
    "        y_pre = Logistic(np.dot(x, self.w.T))\n",
    "        y_pre[y_pre >= 0.5] = 1\n",
    "        y_pre[y_pre < 0.5] = -1\n",
    "        return y_pre"
   ]
  },
  {
   "cell_type": "code",
   "execution_count": 4,
   "id": "0a4fedbb",
   "metadata": {
    "scrolled": false
   },
   "outputs": [
    {
     "data": {
      "text/html": [
       "<div>\n",
       "<style scoped>\n",
       "    .dataframe tbody tr th:only-of-type {\n",
       "        vertical-align: middle;\n",
       "    }\n",
       "\n",
       "    .dataframe tbody tr th {\n",
       "        vertical-align: top;\n",
       "    }\n",
       "\n",
       "    .dataframe thead th {\n",
       "        text-align: right;\n",
       "    }\n",
       "</style>\n",
       "<table border=\"1\" class=\"dataframe\">\n",
       "  <thead>\n",
       "    <tr style=\"text-align: right;\">\n",
       "      <th></th>\n",
       "      <th>x1</th>\n",
       "      <th>x2</th>\n",
       "      <th>y</th>\n",
       "    </tr>\n",
       "  </thead>\n",
       "  <tbody>\n",
       "    <tr>\n",
       "      <th>0</th>\n",
       "      <td>1.4</td>\n",
       "      <td>0.2</td>\n",
       "      <td>0</td>\n",
       "    </tr>\n",
       "    <tr>\n",
       "      <th>1</th>\n",
       "      <td>1.4</td>\n",
       "      <td>0.2</td>\n",
       "      <td>0</td>\n",
       "    </tr>\n",
       "    <tr>\n",
       "      <th>2</th>\n",
       "      <td>1.3</td>\n",
       "      <td>0.2</td>\n",
       "      <td>0</td>\n",
       "    </tr>\n",
       "    <tr>\n",
       "      <th>3</th>\n",
       "      <td>1.5</td>\n",
       "      <td>0.2</td>\n",
       "      <td>0</td>\n",
       "    </tr>\n",
       "    <tr>\n",
       "      <th>4</th>\n",
       "      <td>1.4</td>\n",
       "      <td>0.2</td>\n",
       "      <td>0</td>\n",
       "    </tr>\n",
       "    <tr>\n",
       "      <th>...</th>\n",
       "      <td>...</td>\n",
       "      <td>...</td>\n",
       "      <td>...</td>\n",
       "    </tr>\n",
       "    <tr>\n",
       "      <th>145</th>\n",
       "      <td>5.2</td>\n",
       "      <td>2.3</td>\n",
       "      <td>2</td>\n",
       "    </tr>\n",
       "    <tr>\n",
       "      <th>146</th>\n",
       "      <td>5.0</td>\n",
       "      <td>1.9</td>\n",
       "      <td>2</td>\n",
       "    </tr>\n",
       "    <tr>\n",
       "      <th>147</th>\n",
       "      <td>5.2</td>\n",
       "      <td>2.0</td>\n",
       "      <td>2</td>\n",
       "    </tr>\n",
       "    <tr>\n",
       "      <th>148</th>\n",
       "      <td>5.4</td>\n",
       "      <td>2.3</td>\n",
       "      <td>2</td>\n",
       "    </tr>\n",
       "    <tr>\n",
       "      <th>149</th>\n",
       "      <td>5.1</td>\n",
       "      <td>1.8</td>\n",
       "      <td>2</td>\n",
       "    </tr>\n",
       "  </tbody>\n",
       "</table>\n",
       "<p>150 rows × 3 columns</p>\n",
       "</div>"
      ],
      "text/plain": [
       "      x1   x2  y\n",
       "0    1.4  0.2  0\n",
       "1    1.4  0.2  0\n",
       "2    1.3  0.2  0\n",
       "3    1.5  0.2  0\n",
       "4    1.4  0.2  0\n",
       "..   ...  ... ..\n",
       "145  5.2  2.3  2\n",
       "146  5.0  1.9  2\n",
       "147  5.2  2.0  2\n",
       "148  5.4  2.3  2\n",
       "149  5.1  1.8  2\n",
       "\n",
       "[150 rows x 3 columns]"
      ]
     },
     "execution_count": 4,
     "metadata": {},
     "output_type": "execute_result"
    }
   ],
   "source": [
    "data = pd.read_excel(\"data.xls\")\n",
    "data"
   ]
  },
  {
   "cell_type": "markdown",
   "id": "43f2987e",
   "metadata": {},
   "source": [
    "首先使用二分类问题来验证自定义模型, 取原始数据中标签为0和1的数据, 并将标签0记为标签-1."
   ]
  },
  {
   "cell_type": "code",
   "execution_count": 5,
   "id": "ebe4f19f",
   "metadata": {},
   "outputs": [
    {
     "data": {
      "text/plain": [
       "array([-1, -1, -1, -1, -1, -1, -1, -1, -1, -1, -1, -1, -1, -1, -1, -1, -1,\n",
       "       -1, -1, -1, -1, -1, -1, -1, -1, -1, -1, -1, -1, -1, -1, -1, -1, -1,\n",
       "       -1, -1, -1, -1, -1, -1, -1, -1, -1, -1, -1, -1, -1, -1, -1, -1,  1,\n",
       "        1,  1,  1,  1,  1,  1,  1,  1,  1,  1,  1,  1,  1,  1,  1,  1,  1,\n",
       "        1,  1,  1,  1,  1,  1,  1,  1,  1,  1,  1,  1,  1,  1,  1,  1,  1,\n",
       "        1,  1,  1,  1,  1,  1,  1,  1,  1,  1,  1,  1,  1,  1,  1],\n",
       "      dtype=int64)"
      ]
     },
     "execution_count": 5,
     "metadata": {},
     "output_type": "execute_result"
    }
   ],
   "source": [
    "data1 = data.drop(data[data['y'] == 2].index, axis=0)\n",
    "x = data1[[\"x1\", \"x2\"]].values\n",
    "y = data1[\"y\"].values\n",
    "\n",
    "y[y == 0] = -1\n",
    "y"
   ]
  },
  {
   "cell_type": "markdown",
   "id": "f487b5e3",
   "metadata": {},
   "source": [
    "划分训练接和测试集, 并进行验证."
   ]
  },
  {
   "cell_type": "code",
   "execution_count": 6,
   "id": "86030c08",
   "metadata": {},
   "outputs": [
    {
     "data": {
      "text/plain": [
       "(array([-1.,  1.,  1.,  1.,  1., -1., -1.,  1., -1., -1.,  1., -1.,  1.,\n",
       "         1.,  1., -1., -1.,  1., -1.,  1.]),\n",
       " array([  40.40784207,   53.80507787, -123.28131385]))"
      ]
     },
     "execution_count": 6,
     "metadata": {},
     "output_type": "execute_result"
    }
   ],
   "source": [
    "x_train, x_test, y_train, y_test = train_test_split(x, y, test_size=0.2, random_state=23)\n",
    "\n",
    "lr = Logistic_regression()\n",
    "lr.fit(x_train, y_train)\n",
    "y_pre = lr.predict(x_test)\n",
    "y_pre, lr.w"
   ]
  },
  {
   "cell_type": "markdown",
   "id": "9f60339c",
   "metadata": {},
   "source": [
    "观察分类后的结果, 并计算分类后的精确度, 召回率等指标, 如下:"
   ]
  },
  {
   "cell_type": "code",
   "execution_count": 7,
   "id": "68d8f81b",
   "metadata": {},
   "outputs": [
    {
     "data": {
      "text/plain": [
       "1.0"
      ]
     },
     "execution_count": 7,
     "metadata": {},
     "output_type": "execute_result"
    }
   ],
   "source": [
    "accuracy_score(y_test, y_pre)"
   ]
  },
  {
   "cell_type": "code",
   "execution_count": 8,
   "id": "b6c11c3c",
   "metadata": {},
   "outputs": [
    {
     "name": "stdout",
     "output_type": "stream",
     "text": [
      "              precision    recall  f1-score   support\n",
      "\n",
      "          -1       1.00      1.00      1.00         9\n",
      "           1       1.00      1.00      1.00        11\n",
      "\n",
      "    accuracy                           1.00        20\n",
      "   macro avg       1.00      1.00      1.00        20\n",
      "weighted avg       1.00      1.00      1.00        20\n",
      "\n"
     ]
    }
   ],
   "source": [
    "print(classification_report(y_test, y_pre))"
   ]
  },
  {
   "cell_type": "markdown",
   "id": "04228773",
   "metadata": {},
   "source": [
    "画出混淆矩阵并可视化."
   ]
  },
  {
   "cell_type": "code",
   "execution_count": 9,
   "id": "fa70d78b",
   "metadata": {},
   "outputs": [
    {
     "name": "stdout",
     "output_type": "stream",
     "text": [
      "[[11  0]\n",
      " [ 0  9]]\n"
     ]
    }
   ],
   "source": [
    "cm = confusion_matrix(y_test, y_pre, labels=[1, -1])\n",
    "print(cm)"
   ]
  },
  {
   "cell_type": "code",
   "execution_count": 10,
   "id": "86627715",
   "metadata": {},
   "outputs": [
    {
     "data": {
      "image/png": "[encoded data removed]",
      "text/plain": [
       "<Figure size 432x288 with 2 Axes>"
      ]
     },
     "metadata": {
      "needs_background": "light"
     },
     "output_type": "display_data"
    }
   ],
   "source": [
    "ax = sns.heatmap(cm, annot=True, cmap='Blues')\n",
    "ax.set_title('Seaborn Confusion Matrix with labels\\n\\n');\n",
    "ax.set_xlabel('\\nPredicted Values')\n",
    "ax.set_ylabel('Actual Values ');\n",
    "ax.xaxis.set_ticklabels(['True','Flase'])\n",
    "ax.yaxis.set_ticklabels(['True','Flase'])\n",
    "plt.show()"
   ]
  },
  {
   "cell_type": "markdown",
   "id": "4ba97c38",
   "metadata": {},
   "source": [
    "分类结果可视化"
   ]
  },
  {
   "cell_type": "code",
   "execution_count": 11,
   "id": "6e4cf66b",
   "metadata": {},
   "outputs": [
    {
     "data": {
      "image/png": "[encoded data removed]",
      "text/plain": [
       "<Figure size 1440x720 with 1 Axes>"
      ]
     },
     "metadata": {},
     "output_type": "display_data"
    }
   ],
   "source": [
    "plt.figure(figsize=(20, 10), facecolor='pink')\n",
    "plt.scatter(x_test[:, 0], x_test[:, 0], c=y_pre)\n",
    "plt.show()"
   ]
  },
  {
   "cell_type": "markdown",
   "id": "069c7fc6",
   "metadata": {},
   "source": [
    "以上为二分类模型, 但是原数据为多分类模型, 这是可以采取两种策略. \n",
    "1. 使用拆解法, 将多分类任务拆为若干个二分类任务求解; \n",
    "2. 改进逻辑回归算法, 即将原算法中的Logistic函数进行替换, 并做出相应改进. \n",
    "这里采用第一种方法, 拆解法(参考周志华老师的《机器学习》$p_{63}$). \n",
    "\n",
    "因为本例中样本只有三个类别, 固采用一对余(One vs. Rest, 简称 OvR)拆解法. \n",
    "\n",
    "每次将一个类的样例作为正例、所有其他类的样例作为反例来 训练3个分类器.\n",
    "- 在测试时若仅有一个分类器预测为正类，则对应的类别标记作为最终分类结果;\n",
    "- 若有多个分类器预测为正类, 则考虑各分类器的预测置信度(这里将各分类器在训练集上的准确度作为置信度)，选择置信度最大的类别标记作为分类结果;\n",
    "- 若所有分类器均预测为反类, 则选择置信度最小的类别标记作为分类结果. "
   ]
  },
  {
   "cell_type": "code",
   "execution_count": 12,
   "id": "c0a80b0e",
   "metadata": {},
   "outputs": [
    {
     "name": "stderr",
     "output_type": "stream",
     "text": [
      "<ipython-input-3-d902ddf95dbf>:2: RuntimeWarning: overflow encountered in exp\n",
      "  return 1/(1+np.exp(-x))\n",
      "<ipython-input-3-d902ddf95dbf>:2: RuntimeWarning: overflow encountered in exp\n",
      "  return 1/(1+np.exp(-x))\n",
      "<ipython-input-3-d902ddf95dbf>:2: RuntimeWarning: overflow encountered in exp\n",
      "  return 1/(1+np.exp(-x))\n"
     ]
    }
   ],
   "source": [
    "classes = data[\"y\"].unique().tolist()\n",
    "\n",
    "data_c = copy.copy(data)\n",
    "x = data_c[[\"x1\", \"x2\"]].values\n",
    "y = data_c[\"y\"].values\n",
    "x_train, x_test, y_train_pri, y_test = train_test_split(x, y, test_size=0.2, random_state=23)\n",
    "\n",
    "lrs = {} # 3个分类器的字典, 将每个分类器和置信度按键值对的形式存入字典\n",
    "\n",
    "for cls in classes:\n",
    "    y_train = copy.copy(y_train_pri)\n",
    "    y_train[y_train != cls] = -1\n",
    "    y_train[y_train == cls] = 1\n",
    "    lr = Logistic_regression()\n",
    "    lr.fit(x_train, y_train)\n",
    "    y_pre = lr.predict(x_train)\n",
    "    lrs[lr] = accuracy_score(y_train, y_pre)"
   ]
  },
  {
   "cell_type": "markdown",
   "id": "9cde1205",
   "metadata": {},
   "source": [
    "矩阵y_test_pre表示各个分类器在测试集样本上的结果, 每一行表示一个测试集样本, 每一列表示一个分类器的预测结果"
   ]
  },
  {
   "cell_type": "code",
   "execution_count": 13,
   "id": "77f038f1",
   "metadata": {},
   "outputs": [
    {
     "name": "stderr",
     "output_type": "stream",
     "text": [
      "<ipython-input-3-d902ddf95dbf>:2: RuntimeWarning: overflow encountered in exp\n",
      "  return 1/(1+np.exp(-x))\n"
     ]
    },
    {
     "data": {
      "text/plain": [
       "array([[-1.,  1.,  1.],\n",
       "       [-1.,  1.,  1.],\n",
       "       [-1.,  1., -1.],\n",
       "       [ 1.,  1., -1.],\n",
       "       [-1.,  1.,  1.],\n",
       "       [-1.,  1., -1.],\n",
       "       [ 1.,  1., -1.],\n",
       "       [-1.,  1.,  1.],\n",
       "       [ 1.,  1., -1.],\n",
       "       [-1.,  1., -1.],\n",
       "       [-1.,  1., -1.],\n",
       "       [ 1.,  1., -1.],\n",
       "       [-1.,  1.,  1.],\n",
       "       [ 1.,  1., -1.],\n",
       "       [ 1.,  1., -1.],\n",
       "       [-1.,  1., -1.],\n",
       "       [-1.,  1., -1.],\n",
       "       [-1.,  1., -1.],\n",
       "       [-1.,  1.,  1.],\n",
       "       [ 1.,  1., -1.],\n",
       "       [-1.,  1.,  1.],\n",
       "       [ 1.,  1., -1.],\n",
       "       [ 1.,  1., -1.],\n",
       "       [ 1.,  1., -1.],\n",
       "       [-1.,  1.,  1.],\n",
       "       [ 1.,  1., -1.],\n",
       "       [ 1.,  1., -1.],\n",
       "       [-1.,  1.,  1.],\n",
       "       [-1.,  1., -1.],\n",
       "       [-1.,  1., -1.]])"
      ]
     },
     "execution_count": 13,
     "metadata": {},
     "output_type": "execute_result"
    }
   ],
   "source": [
    "y_test_pre = []\n",
    "for key, value in lrs.items():\n",
    "    y_test_pre.append(key.predict(x_test).tolist())\n",
    "y_test_pre = np.array(y_test_pre).T\n",
    "y_test_pre"
   ]
  },
  {
   "cell_type": "markdown",
   "id": "121cf5d7",
   "metadata": {},
   "source": [
    "按照OvR拆解法进行预测"
   ]
  },
  {
   "cell_type": "code",
   "execution_count": 14,
   "id": "1e83c261",
   "metadata": {},
   "outputs": [
    {
     "data": {
      "text/plain": [
       "[2,\n",
       " 2,\n",
       " 1,\n",
       " 0,\n",
       " 2,\n",
       " 1,\n",
       " 0,\n",
       " 2,\n",
       " 0,\n",
       " 1,\n",
       " 1,\n",
       " 0,\n",
       " 2,\n",
       " 0,\n",
       " 0,\n",
       " 1,\n",
       " 1,\n",
       " 1,\n",
       " 2,\n",
       " 0,\n",
       " 2,\n",
       " 0,\n",
       " 0,\n",
       " 0,\n",
       " 2,\n",
       " 0,\n",
       " 0,\n",
       " 2,\n",
       " 1,\n",
       " 1]"
      ]
     },
     "execution_count": 14,
     "metadata": {},
     "output_type": "execute_result"
    }
   ],
   "source": [
    "y_pre = []\n",
    "for row in y_test_pre:\n",
    "    t = 0\n",
    "    weight = 0\n",
    "    if np.all(row == -1):\n",
    "        t = list(lrs.values()).index(min(lrs.values()))\n",
    "    for j in range(len(row)):\n",
    "        if row[j] == -1:\n",
    "            continue\n",
    "        elif list(lrs.values())[j]>=weight:\n",
    "            t = j\n",
    "            weight = list(lrs.values())[j]\n",
    "        else:\n",
    "            continue\n",
    "    y_pre.append(t)\n",
    "y_pre"
   ]
  },
  {
   "cell_type": "markdown",
   "id": "92fce7d7",
   "metadata": {},
   "source": [
    "观察分类后的结果, 并计算分类后的精确度, 召回率等指标, 如下:"
   ]
  },
  {
   "cell_type": "code",
   "execution_count": 15,
   "id": "a33b4411",
   "metadata": {},
   "outputs": [
    {
     "data": {
      "text/plain": [
       "0.9666666666666667"
      ]
     },
     "execution_count": 15,
     "metadata": {},
     "output_type": "execute_result"
    }
   ],
   "source": [
    "accuracy_score(y_test, y_pre)"
   ]
  },
  {
   "cell_type": "code",
   "execution_count": 16,
   "id": "bee2c3b2",
   "metadata": {},
   "outputs": [
    {
     "name": "stdout",
     "output_type": "stream",
     "text": [
      "              precision    recall  f1-score   support\n",
      "\n",
      "           0       1.00      1.00      1.00        12\n",
      "           1       0.89      1.00      0.94         8\n",
      "           2       1.00      0.90      0.95        10\n",
      "\n",
      "    accuracy                           0.97        30\n",
      "   macro avg       0.96      0.97      0.96        30\n",
      "weighted avg       0.97      0.97      0.97        30\n",
      "\n"
     ]
    }
   ],
   "source": [
    "print(classification_report(y_test, y_pre))"
   ]
  },
  {
   "cell_type": "markdown",
   "id": "d5528669",
   "metadata": {},
   "source": [
    "画出混淆矩阵并可视化."
   ]
  },
  {
   "cell_type": "code",
   "execution_count": 17,
   "id": "99a1dd3b",
   "metadata": {},
   "outputs": [
    {
     "name": "stdout",
     "output_type": "stream",
     "text": [
      "[[12  0  0]\n",
      " [ 0  8  0]\n",
      " [ 0  1  9]]\n"
     ]
    }
   ],
   "source": [
    "cm = confusion_matrix(y_test, y_pre, labels=[0, 1, 2])\n",
    "print(cm)"
   ]
  },
  {
   "cell_type": "code",
   "execution_count": 18,
   "id": "c54d9e83",
   "metadata": {},
   "outputs": [
    {
     "data": {
      "image/png": "[encoded data removed]",
      "text/plain": [
       "<Figure size 432x288 with 2 Axes>"
      ]
     },
     "metadata": {
      "needs_background": "light"
     },
     "output_type": "display_data"
    }
   ],
   "source": [
    "ax = sns.heatmap(cm, annot=True, cmap='Blues')\n",
    "ax.set_title('Seaborn Confusion Matrix with labels\\n\\n');\n",
    "ax.set_xlabel('\\nPredicted Values')\n",
    "ax.set_ylabel('Actual Values ');\n",
    "ax.xaxis.set_ticklabels([0, 1, 2])\n",
    "ax.yaxis.set_ticklabels([0, 1, 2])\n",
    "plt.show()"
   ]
  },
  {
   "cell_type": "markdown",
   "id": "c9e2ec03",
   "metadata": {},
   "source": [
    "分类结果可视化"
   ]
  },
  {
   "cell_type": "code",
   "execution_count": 19,
   "id": "dc715407",
   "metadata": {},
   "outputs": [
    {
     "data": {
      "image/png": "[encoded data removed]",
      "text/plain": [
       "<Figure size 1440x720 with 1 Axes>"
      ]
     },
     "metadata": {},
     "output_type": "display_data"
    }
   ],
   "source": [
    "plt.figure(figsize=(20, 10), facecolor='pink')\n",
    "plt.scatter(x_test[:, 0], x_test[:, 0], c=y_pre)\n",
    "plt.show()"
   ]
  }
 ],
 "metadata": {
  "interpreter": {
   "hash": "07369bb48c4b71084dd69cc45bda28932c72b46a6f6cf02b1dad4526d2de278e"
  },
  "kernelspec": {
   "display_name": "Python 3.9.4 64-bit",
   "language": "python",
   "name": "python3"
  },
  "language_info": {
   "codemirror_mode": {
    "name": "ipython",
    "version": 3
   },
   "file_extension": ".py",
   "mimetype": "text/x-python",
   "name": "python",
   "nbconvert_exporter": "python",
   "pygments_lexer": "ipython3",
   "version": "3.9.4"
  }
 },
 "nbformat": 4,
 "nbformat_minor": 5
}
